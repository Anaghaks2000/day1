{
  "nbformat": 4,
  "nbformat_minor": 0,
  "metadata": {
    "colab": {
      "name": "ass.ipynb",
      "provenance": [],
      "collapsed_sections": [],
      "authorship_tag": "ABX9TyP3M217C4E+uOz0kdxh3APm",
      "include_colab_link": true
    },
    "kernelspec": {
      "name": "python3",
      "display_name": "Python 3"
    },
    "language_info": {
      "name": "python"
    }
  },
  "cells": [
    {
      "cell_type": "markdown",
      "metadata": {
        "id": "view-in-github",
        "colab_type": "text"
      },
      "source": [
        "<a href=\"https://colab.research.google.com/github/Anaghaks2000/day1/blob/main/ass.ipynb\" target=\"_parent\"><img src=\"https://colab.research.google.com/assets/colab-badge.svg\" alt=\"Open In Colab\"/></a>"
      ]
    },
    {
      "cell_type": "code",
      "metadata": {
        "colab": {
          "base_uri": "https://localhost:8080/"
        },
        "id": "MdSIJkdllPdk",
        "outputId": "41249ab5-b400-482f-80d3-089af4ad0844"
      },
      "source": [
        "print(\"Input six integers:\") \n",
        "nums = list(map(int, input().split())) \n",
        "nums.sort() \n",
        "nums.reverse()\n",
        "\n",
        "print(\"After sorting the said ntegers:\")\n",
        " \n",
        "print(*nums)"
      ],
      "execution_count": null,
      "outputs": [
        {
          "output_type": "stream",
          "text": [
            "Input six integers:\n",
            "10 20 30 40 50  60\n",
            "After sorting the said ntegers:\n",
            "60 50 40 30 20 10\n"
          ],
          "name": "stdout"
        }
      ]
    }
  ]
}